{
  "nbformat": 4,
  "nbformat_minor": 0,
  "metadata": {
    "colab": {
      "name": "Метод стрельбы.ipynb",
      "provenance": [],
      "collapsed_sections": [],
      "toc_visible": true
    },
    "kernelspec": {
      "name": "python3",
      "display_name": "Python 3"
    }
  },
  "cells": [
    {
      "cell_type": "markdown",
      "metadata": {
        "id": "iRlP7biIcwLo"
      },
      "source": [
        "# Метод стрельбы для численного решения краевой задачи\n"
      ]
    },
    {
      "cell_type": "markdown",
      "metadata": {
        "id": "Lbyy9OkzB8nY"
      },
      "source": [
        "## Краевая задача\n"
      ]
    },
    {
      "cell_type": "markdown",
      "metadata": {
        "id": "mY6OIwPsCfse"
      },
      "source": [
        "**Краевая задача** - задача о нахождении частного решения дифференциального уравнения, удовлетворяющее краевым (граничным) условиям на концах заданного интервала или границе области.\n",
        "\n",
        "Краевая задача для ОДУ 2-го порядка выглядит следующим образом:\n",
        "\n",
        "\\begin{align}\n",
        "& y'' = f(x, y, y'), \\quad a < x < b \\tag{1} \\\\\n",
        "& y(a) = A, \\quad y(b) = B \\tag{2} \\\\\n",
        "\\end{align}\n",
        "\n",
        "где $(1)$ - заданное ОДУ 2-го порядка, $(2)$ - краевые условия на концах отрезка $[a, b]$."
      ]
    },
    {
      "cell_type": "markdown",
      "metadata": {
        "id": "Pi3onUYaCHSf"
      },
      "source": [
        "## Метод стрельбы"
      ]
    },
    {
      "cell_type": "markdown",
      "metadata": {
        "id": "NmPRlHYcCkVW"
      },
      "source": [
        "Суть метода стрельбы заключается в сведении решения краевой задачи к многократному решению задачи Коши.\n",
        "\n",
        "Введём функцию:\n",
        "\\begin{equation}\n",
        "z(x) = y'(x) \\tag{3}\n",
        "\\end{equation}\n",
        "\n",
        "Тогда краевую задачу $(1), (2)$ можно записать в виде системы задач Коши:\n",
        "\\begin{equation}\n",
        "y' = z, \\quad y(a) = A \\tag{4}\n",
        "\\end{equation}\n",
        "\n",
        "\\begin{equation}\n",
        "z' = f(x, y, z), \\quad z(a) = y'(a) = \\eta \\tag{5}\n",
        "\\end{equation}\n",
        "\n",
        "Поскольку производная функции в точке равна тангенсу угла наклона касательной, проведенной к интегральной кривой в этой точке, то параметр $\\eta$ можно представить в виде: $\\eta = \\tan \\alpha$. Тогда можно сравнить многократное решение задачи Коши с различными значениями $\\eta$ с баллистической задачей, когда находясь на некотором расстоянии от мишени проводят серию выстрелов с различными значениями угла $\\alpha$ до тех пор, пока не попадут в цель.\n",
        "\n",
        "В случае краевой задачи \"целью\" является точка $(b, B)$:"
      ]
    },
    {
      "cell_type": "markdown",
      "metadata": {
        "id": "8kD1_xkAvoBP"
      },
      "source": [
        "![image.png](data:image/png;base64,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)"
      ]
    },
    {
      "cell_type": "markdown",
      "metadata": {
        "id": "22yHTcU1v3B-"
      },
      "source": [
        "Вводится функция ошибки:\n",
        "\n",
        "\\begin{equation}\n",
        "\\Phi(\\eta) = y(b; \\eta) - B \\tag{6}\n",
        "\\end{equation}\n",
        "\n",
        "где $y(x, \\eta)$ - решение краевой задачи при заданном параметре $\\eta$.\n",
        "\n",
        "Таким образом, метод стрельбы заключается в проведении некоторого числа \"выстрелов\" (решений задачи Коши) с целью получения значения $\\eta = \\eta^*$ такого, что $|\\Phi(\\eta^*)| \\leq \\epsilon$, где $\\epsilon$ - заданная точность решения задачи.\n",
        "\n",
        "Для метода Эйлера решение задачи Коши $(4), (5)$ примет следующий вид:\n",
        "\n",
        "\\begin{equation}\n",
        "x_{i+1} = x_i + h, \\quad y_{i+1} = y_i + h z_i, \\quad z_{i+1} = z_i + h f(x_i, y_i, z_i) \\tag{7}\n",
        "\\end{equation}\n",
        "\\begin{equation}\n",
        "x_0 = a, \\quad y_0 = A, \\quad z_0 = \\eta \\tag{8}\n",
        "\\end{equation}"
      ]
    },
    {
      "cell_type": "markdown",
      "metadata": {
        "id": "D0Jr_m9dATjo"
      },
      "source": [
        "Для выбора значения параметра $\\eta$ на каждом этапе решениия используют те же методы, что и при решении нелинейных уравнений: метод деления отрезка пополам и метод хорд.\n",
        "\n",
        "Сначала выбираются два значения $\\eta_1$, $\\eta_2$, в которых функция $\\Phi(\\eta)$ принимает противоположные по знаку значения.\n",
        "\n",
        "**Метод деления отрезка попопалам** заключается в поиске значения в интервале $(\\eta_1, \\eta_2)$. На каждой итерации вычисляется значение $\\Phi(\\eta^*)$ в середине интервала $\\eta^* = \\frac{\\eta_1 + \\eta_2}{2}$. Если |$\\Phi(\\eta^*)| \\leq \\epsilon$, то $y(x; \\eta^*)$ - искомая интегральная кривая. В противном случае следует продолжать работу метода в интервале $(\\eta_1, \\eta^*)$, если $\\Phi(\\eta_1) \\Phi(\\eta^*) < 0$, и в интервале $(\\eta^*, \\eta_2)$ в противном случае.\n",
        "\n",
        "При применении **метода хорд** применяется формула:\n",
        "\\begin{equation}\n",
        "\\eta_{i+1}=\\frac{\\eta_{i-1}\\Phi(\\eta_i) - \\eta_{i}\\Phi(\\eta_{i-1})}{\\Phi(\\eta_i) - \\Phi(\\eta_{i-1})} \\tag{9}\n",
        "\\end{equation}\n",
        "\n",
        "Итерации прекращаются при выполнении условия окончания |$\\Phi(\\eta_k)| \\leq \\epsilon$ или $|\\eta_{k+1} - \\eta_k| \\leq \\epsilon$"
      ]
    },
    {
      "cell_type": "markdown",
      "metadata": {
        "id": "fksDH3RWVc3U"
      },
      "source": [
        "# Задача"
      ]
    },
    {
      "cell_type": "markdown",
      "metadata": {
        "id": "Wvp4FXK6Vgxu"
      },
      "source": [
        "Реализуйте метод стрельбы для решения краевой задачи ОДУ 2-го порядка. При многократном решении задачи Коши используйте функцию `cauchy` из задачи 1 и метод выбора значения $\\eta$ в зависимости от варианта. Нарисуйте график с отображением всех интегральных кривых, полученных в процессе решения задачи."
      ]
    },
    {
      "cell_type": "code",
      "metadata": {
        "id": "3OWaucLXCCSp"
      },
      "source": [
        "import math\n",
        "import numpy as np\n",
        "import matplotlib.pyplot as plt\n",
        "\n",
        "f = lambda x, u: u[-1] + u[-2] + x\n",
        "h = 0.01\n",
        "error = 0.01\n",
        "x_a, y_a = 0, 0\n",
        "x_b, y_b = 1, 0\n",
        "eta_1 = -10\n",
        "eta_2 = 10\n",
        "u_0 = np.array([y_a, eta_1])"
      ],
      "execution_count": 1,
      "outputs": []
    },
    {
      "cell_type": "code",
      "metadata": {
        "id": "CJSsOZVSbs0z"
      },
      "source": [
        "def hord(f, x1, x2, eps):\n",
        "    amount_of_itterations = 0\n",
        "    current = x1\n",
        "    previous = x2\n",
        "    roots = [x1, x2]\n",
        "\n",
        "    while math.fabs(previous - current) > eps:\n",
        "        root = ( previous * f(current) - current * f(previous) ) / (f(current) - f(previous))\n",
        "        roots.append(root)\n",
        "        \n",
        "        previous = current\n",
        "        current = root\n",
        "        \n",
        "        amount_of_itterations += 1\n",
        "    return root, amount_of_itterations, roots"
      ],
      "execution_count": 2,
      "outputs": []
    },
    {
      "cell_type": "code",
      "metadata": {
        "id": "AUrhQbxhCFid"
      },
      "source": [
        "def cauchy(f, u0, x0, xn, h):\n",
        "    func = lambda x, u: np.append(u[1:], f(x, u))\n",
        "    x = x0\n",
        "    u = np.array(u0)\n",
        "    res = [(x, u[0])]\n",
        "    while x + h <= xn:\n",
        "        u = u + h * func(x, u)\n",
        "        x += h\n",
        "        res.append((x, u[0]))\n",
        "    res = np.array(res)\n",
        "    return np.linspace(x0, xn, int((xn-x0)/h)+1), res[:,1]\n",
        "\n",
        "x, y = cauchy(f, u_0, x_a, x_b, h)"
      ],
      "execution_count": 3,
      "outputs": []
    },
    {
      "cell_type": "code",
      "metadata": {
        "id": "iTkF40QFCLCI"
      },
      "source": [
        "def shooting_method( f, x_0, x_n, h, y_n, error, eta_1, eta_2 ):\n",
        "    y_array = []\n",
        "    \n",
        "    def error_function(u):\n",
        "        u_0 = [y_a, u]\n",
        "        x_temp, y_temp = cauchy(f, u_0, x_0, x_n, h)\n",
        "        return y_temp[-1] - y_n\n",
        "\n",
        "\n",
        "    root, amount_of_itterations, roots = hord(error_function, eta_1, eta_2, error)\n",
        "    \n",
        "    for i in range(len(roots)):\n",
        "        x , y = cauchy(f, np.array( [y_a,roots[i]] ), x_0, x_n, h)\n",
        "        y_array.append(y)\n",
        "\n",
        "    return x[:-1], y_array\n",
        "\n",
        "x, y = shooting_method( f, x_a, x_b, h, y_b, error, eta_1, eta_2 )"
      ],
      "execution_count": 4,
      "outputs": []
    },
    {
      "cell_type": "code",
      "metadata": {
        "colab": {
          "base_uri": "https://localhost:8080/",
          "height": 265
        },
        "id": "kt_CdhGzCP1Q",
        "outputId": "1fecdce5-0cfe-445a-e2ab-0611dd4ee1dc"
      },
      "source": [
        "for i in range(len(y)):\n",
        "    plt.plot(x, y[i])\n",
        "\n",
        "plt.show()"
      ],
      "execution_count": 5,
      "outputs": [
        {
          "output_type": "display_data",
          "data": {
            "image/png": "[encoded data removed]",
            "text/plain": [
              "<Figure size 432x288 with 1 Axes>"
            ]
          },
          "metadata": {
            "needs_background": "light"
          }
        }
      ]
    },
    {
      "cell_type": "code",
      "metadata": {
        "id": "2zrHOyvCbnU8",
        "colab": {
          "base_uri": "https://localhost:8080/",
          "height": 282
        },
        "outputId": "9e7a3e03-516a-42d0-87e5-6428894427c2"
      },
      "source": [
        "plt.plot(x, y[-1])"
      ],
      "execution_count": 6,
      "outputs": [
        {
          "output_type": "execute_result",
          "data": {
            "text/plain": [
              "[<matplotlib.lines.Line2D at 0x7fa91cfb5cd0>]"
            ]
          },
          "metadata": {},
          "execution_count": 6
        },
        {
          "output_type": "display_data",
          "data": {
            "image/png": "[encoded data removed]",
            "text/plain": [
              "<Figure size 432x288 with 1 Axes>"
            ]
          },
          "metadata": {
            "needs_background": "light"
          }
        }
      ]
    },
    {
      "cell_type": "code",
      "metadata": {
        "id": "TOuhzvVYEcwh"
      },
      "source": [
        ""
      ],
      "execution_count": 6,
      "outputs": []
    }
  ]
}