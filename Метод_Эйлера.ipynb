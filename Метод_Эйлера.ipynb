{
  "nbformat": 4,
  "nbformat_minor": 0,
  "metadata": {
    "colab": {
      "name": "Метод Эйлера.ipynb",
      "provenance": [],
      "collapsed_sections": []
    },
    "kernelspec": {
      "name": "python3",
      "display_name": "Python 3"
    }
  },
  "cells": [
    {
      "cell_type": "markdown",
      "metadata": {
        "id": "SM-94TJ0ABhL"
      },
      "source": [
        "## Задача Коши для ОДУ высших порядков"
      ]
    },
    {
      "cell_type": "markdown",
      "metadata": {
        "id": "6biW3QDLALSP"
      },
      "source": [
        "### Теория"
      ]
    },
    {
      "cell_type": "markdown",
      "metadata": {
        "id": "m4tCfqKhTdqn"
      },
      "source": [
        "#### ОДУ n-го порядка"
      ]
    },
    {
      "cell_type": "markdown",
      "metadata": {
        "id": "EoAAiMkemiMZ"
      },
      "source": [
        "Обыкновенное дифференциальное уравнение n-го порядка:\n",
        "\n",
        "\\begin{align}\n",
        "y^{(n)}=f(x, y, y', y'', ...,y^{(n-1)})\n",
        "\\end{align}\n",
        "\n",
        "Начальные условия:\n",
        "\n",
        "\\begin{align}\n",
        "& y(x_0) = y_0^{(0)} \\\\\n",
        "& y'(x_0) = y_0^{(1)} \\\\\n",
        "& ... \\\\\n",
        "& y^{(n-1)}(x_0) = y_0^{(n-1)} \\\\\n",
        "\\end{align}"
      ]
    },
    {
      "cell_type": "markdown",
      "metadata": {
        "id": "KsrwQE8fTulX"
      },
      "source": [
        "#### Векторная форма ОДУ n-го порядка "
      ]
    },
    {
      "cell_type": "markdown",
      "metadata": {
        "id": "5wj9c28OTty0"
      },
      "source": [
        "Сделаем замену:\n",
        "\n",
        "\\begin{align}\n",
        "& u_1(x) = y(x) \\\\\n",
        "& u_2(x) = u_1'(x) = y'(x) \\\\\n",
        "& ... \\\\\n",
        "& u_n(x) = u_{n-1}'(x) = y^{(n-1)}(x) \\\\\n",
        "\\end{align}\n",
        "\n",
        "Введем вектор:\n",
        "\n",
        "\\begin{align}\n",
        "    \\overrightarrow{u}(x) &= \\begin{bmatrix}\n",
        "           u_{1}(x) \\\\\n",
        "           u_{2}(x) \\\\\n",
        "           \\vdots \\\\\n",
        "           u_{n}(x)\n",
        "         \\end{bmatrix} = \\begin{bmatrix}\n",
        "           y(x) \\\\\n",
        "           y'(x) \\\\\n",
        "           \\vdots \\\\\n",
        "           y^{(n-1)}(x)\n",
        "         \\end{bmatrix}\n",
        "\\end{align}\n",
        "\n",
        "Тогда начальные условия примут вид:\n",
        "\n",
        "\\begin{align}\n",
        "    \\overrightarrow{u_0} = \\overrightarrow{u}(x_0) &= \\begin{bmatrix}\n",
        "           y_0^{(0)} \\\\\n",
        "           y_0^{(1)} \\\\\n",
        "           \\vdots \\\\\n",
        "           y_0^{(n-1)}\n",
        "         \\end{bmatrix}\n",
        "\\end{align}\n",
        "\n",
        "Исходное уравнение можно записать в виде системы:\n",
        "\n",
        "\\begin{align}\n",
        "& u_1' = u_2 \\\\\n",
        "& ... \\\\\n",
        "& u_i' = u_{i+1} \\\\\n",
        "& ... \\\\\n",
        "& u_{n-1}' = u_{n} \\\\\n",
        "& u_n' = f(x, \\overrightarrow{u}) \\\\\n",
        "\\end{align}\n",
        "\n",
        "Или в векторной форме:\n",
        "\n",
        "\\begin{align}\n",
        "\\overrightarrow{u}'=\\overrightarrow{F}(x, \\overrightarrow{u})\n",
        "\\end{align}\n",
        "\n",
        "Тогда задача Коши в векторной форме примет вид:\n",
        "\n",
        "\\begin{align}\n",
        "& \\overrightarrow{u}'=\\overrightarrow{F}(x, \\overrightarrow{u}) \\\\\n",
        "& \\overrightarrow{u}(x_0)=\\overrightarrow{u_0}, \\\\\n",
        "\\end{align}\n",
        "\n",
        "где\n",
        "\n",
        "\n",
        "\\begin{align}\n",
        "    \\overrightarrow{F}(x, \\overrightarrow{u}) &= \\begin{bmatrix}\n",
        "           u_{2}(x) \\\\\n",
        "           u_{3}(x) \\\\\n",
        "           \\vdots \\\\\n",
        "           u_{n}(x) \\\\\n",
        "           f(x, \\overrightarrow{u})\n",
        "         \\end{bmatrix}\n",
        "\\end{align}"
      ]
    },
    {
      "cell_type": "markdown",
      "metadata": {
        "id": "MmvakHN8APFe"
      },
      "source": [
        "### Задание"
      ]
    },
    {
      "cell_type": "markdown",
      "metadata": {
        "id": "pzaJecdMrAPT"
      },
      "source": [
        "Реализуйте численный метод решения задачи Коши для ОДУ произвольного порядка в сооответствии с вариантом:\n",
        "1. Метод Рунге-Кутта 4-го порядка\n",
        "2. Модифицированный метод Эйлера\n",
        "3. Метод Эйлера с пересчетом\n",
        "\n",
        "Метод должен быть реализован в виде функции с сигнатурой `cauchy(f, u0, x0, xn, h)`, где:\n",
        "* `f` - функция от двух переменных `x` (число) и `u` (массив), соответсвующая правой части ОДУ: $y^{(n)}=f(x, y, y', y'', ...,y^{(n-1)})$ \n",
        "* `u0` - массив начальных условий: $\\overrightarrow{u}(x_0)=\\overrightarrow{u_0}$\n",
        "* `x0` и `xn` - начало и конец отрезка разбиения\n",
        "* `h` - шаг разбиения\n",
        "\n",
        "Метод должен возвращать набор точек интегральной кривой в узлах разбиения"
      ]
    },
    {
      "cell_type": "markdown",
      "metadata": {
        "id": "Q90-I02Ovwym"
      },
      "source": [
        ""
      ]
    },
    {
      "cell_type": "markdown",
      "metadata": {
        "id": "Z0MJfQg7cmx8"
      },
      "source": [
        "**Моя функция:**"
      ]
    },
    {
      "cell_type": "code",
      "metadata": {
        "id": "d0hXQGiXcqgS"
      },
      "source": [
        "import math\n",
        "import numpy as np\n",
        "\n",
        "f = lambda x, u: u[-1] + u[-2] + u[-3] * x\n",
        "\n",
        "x0 = 0\n",
        "xn = 15\n",
        "u0 = [0, 0, 2]\n",
        "h = 0.01"
      ],
      "execution_count": null,
      "outputs": []
    },
    {
      "cell_type": "markdown",
      "metadata": {
        "id": "aIxgN9n9byP2"
      },
      "source": [
        "\n",
        "3. Метод Эйлера с пересчетом:\n"
      ]
    },
    {
      "cell_type": "code",
      "metadata": {
        "id": "eyQWGiCnrUwR"
      },
      "source": [
        "def cauchy(f, u0, x0, xn, h):\n",
        "    func = lambda x, u: np.append(u[1:], f(x, u))\n",
        "    x = x0\n",
        "    u = np.array(u0)\n",
        "    res = [(x, u[0])]\n",
        "    while x + h <= xn:\n",
        "        u = u + h * func(x, u)\n",
        "        x += h\n",
        "        res.append((x, u[0]))\n",
        "    res = np.array(res)\n",
        "    return np.linspace(x0, xn, int((xn-x0)/h)+1), res[:,1]\n",
        "\n",
        "x, y = cauchy(f, u0, x0, xn, h)"
      ],
      "execution_count": null,
      "outputs": []
    },
    {
      "cell_type": "code",
      "metadata": {
        "colab": {
          "base_uri": "https://localhost:8080/",
          "height": 276
        },
        "id": "7JpQzc2U05LD",
        "outputId": "45bf42d7-054f-4a9d-9b2f-a30d735d2551"
      },
      "source": [
        "import matplotlib.pyplot as plt\n",
        "plt.plot(x, y)\n",
        "plt.show()"
      ],
      "execution_count": null,
      "outputs": [
        {
          "output_type": "display_data",
          "data": {
            "image/png": "[encoded data removed]",
            "text/plain": [
              "<Figure size 432x288 with 1 Axes>"
            ]
          },
          "metadata": {
            "needs_background": "light"
          }
        }
      ]
    },
    {
      "cell_type": "markdown",
      "metadata": {
        "id": "lU-woPTeswP5"
      },
      "source": [
        "Используйте функцию `cauchy` для решения задачи Коши для ОДУ 3-го порядка (придумайте самостоятельно). Используйте шаг разбиения `h = 0.01`. Отрисуйте полученную интегральную кривую"
      ]
    }
  ]
}